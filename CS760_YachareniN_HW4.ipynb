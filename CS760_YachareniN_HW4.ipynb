{
 "cells": [
  {
   "cell_type": "code",
   "execution_count": 2,
   "id": "cb931d42",
   "metadata": {},
   "outputs": [
    {
     "name": "stderr",
     "output_type": "stream",
     "text": [
      "/Users/nikhil/opt/anaconda3/lib/python3.9/site-packages/scipy/__init__.py:146: UserWarning: A NumPy version >=1.16.5 and <1.23.0 is required for this version of SciPy (detected version 1.24.3\n",
      "  warnings.warn(f\"A NumPy version >={np_minversion} and <{np_maxversion}\"\n"
     ]
    }
   ],
   "source": [
    "import numpy as np\n",
    "from sklearn.datasets import fetch_openml\n",
    "from sklearn.model_selection import train_test_split\n",
    "from sklearn.metrics import accuracy_score, log_loss\n",
    "from sklearn.preprocessing import StandardScaler, OneHotEncoder"
   ]
  },
  {
   "cell_type": "code",
   "execution_count": null,
   "id": "80f6e22d",
   "metadata": {},
   "outputs": [],
   "source": [
    "# 4 - 2\n",
    "\n",
    "dataset = fetch_openml('mnist_784', version=1)\n",
    "\n",
    "X = dataset.data.astype('float32')\n",
    "X = X / 255.0\n",
    "X = X - X.mean(axis=0)\n",
    "y = dataset.target.astype('int')\n",
    "y = y.to_numpy()\n",
    "y = y.reshape(len(y), 1)\n",
    "\n",
    "onehot = OneHotEncoder(sparse=False)\n",
    "y_onehot = onehot.fit_transform(y)\n",
    "\n",
    "X_train, X_test, y_train, y_test = train_test_split(X, y_onehot, test_size = 0.2, random_state=72)\n",
    "d = X_train.shape[1]\n",
    "d1 = 300\n",
    "k = 10\n",
    "W1 = np.random.randn(d1, d) * .01\n",
    "W2 = np.random.randn(k, d1) * .01\n",
    "lr = .01\n",
    "epochs = 10\n",
    "batch_size = 32\n",
    "\n",
    "for epoch in range(epochs):\n",
    "    for i in range(0, X_train.shape[0], batch_size):\n",
    "        X_batch = X_train[i:i + batch_size]\n",
    "        y_batch = y_train[i:i + batch_size]\n",
    "        \n",
    "        z1 = np.dot(W1, X_batch.T)\n",
    "        a1 = 1 / (1 + np.exp(-z1))\n",
    "        z2 = np.dot(W2, a1)\n",
    "        y_hat = np.exp(z2) / np.sum(np.exp(z2), axis = 0)\n",
    "        \n",
    "        dz2 = (y_hat - y_batch.T)\n",
    "        dW2 = np.dot(dz2, a1.T) / batch_size\n",
    "        da1 = np.dot(W2.T, dz2)\n",
    "        dz1 = da1 * a1 * (1 - a1)\n",
    "        dW1 = np.dot(dz1, X_batch) / batch_size\n",
    "        \n",
    "        W1 -= lr * dW1\n",
    "        W2 -= lr * dW2\n",
    "        \n",
    "    y_hat_train = np.exp(np.dot(W2, 1 / (1 + np.exp(-np.dot(W1, X_train.T))))) / np.sum(np.exp(np.dot(W2, 1 / (1 + np.exp(-np.dot(W1, X_train.T))))), axis = 0)\n",
    "    train_loss = log_loss(y_train, y_hat_train.T)\n",
    "    train_acc = accuracy_score(np.argmax(y_train, axis = 1), np.argmax(y_hat_train, axis = 0))\n",
    "    \n",
    "    print(f'Epoch {epoch + 1} -- Loss: {train_loss} -- Accuracy: {train_accuracy}')"
   ]
  },
  {
   "cell_type": "code",
   "execution_count": null,
   "id": "ee7931cd",
   "metadata": {},
   "outputs": [],
   "source": []
  }
 ],
 "metadata": {
  "kernelspec": {
   "display_name": "Python 3 (ipykernel)",
   "language": "python",
   "name": "python3"
  },
  "language_info": {
   "codemirror_mode": {
    "name": "ipython",
    "version": 3
   },
   "file_extension": ".py",
   "mimetype": "text/x-python",
   "name": "python",
   "nbconvert_exporter": "python",
   "pygments_lexer": "ipython3",
   "version": "3.9.12"
  }
 },
 "nbformat": 4,
 "nbformat_minor": 5
}
